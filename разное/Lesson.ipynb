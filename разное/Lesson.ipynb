{
 "cells": [
  {
   "cell_type": "code",
   "execution_count": 1,
   "metadata": {},
   "outputs": [
    {
     "name": "stdout",
     "output_type": "stream",
     "text": [
      "Total sales: 40000\n"
     ]
    }
   ],
   "source": [
    "class SalesReport():  \n",
    "    # Позволим добавлять много разных сделок   \n",
    "    def add_deal(self, amount):   \n",
    "        # На первой сделке создадим список для хранения всех сделок   \n",
    "        if not hasattr(self, 'deals'):  \n",
    "            self.deals = []  \n",
    "        # Добавим текущую сделку  \n",
    "        self.deals.append(amount)  \n",
    "          \n",
    "    # Посчитаем сумму всех сделок      \n",
    "    def total_amount(self):  \n",
    "        return sum(self.deals)  \n",
    "      \n",
    "    def print_report(self):  \n",
    "        print(\"Total sales:\", self.total_amount())  \n",
    "          \n",
    "# Используем наши новые возможности  \n",
    "# Добавим две сделки и распечатаем отчёт  \n",
    "report = SalesReport()  \n",
    "report.add_deal(10000)  \n",
    "report.add_deal(30000)  \n",
    "report.print_report() # => Total sales: 40000  "
   ]
  },
  {
   "cell_type": "markdown",
   "metadata": {},
   "source": [
    "Задание 4.1\n",
    "1 point possible (graded)\n",
    "Допишите определение класса DepartmentReport, который выводит отчёт по отделам компании. У него должны быть определены:\n",
    "\n",
    "атрибут revenues — список, где мы храним значения выручки отделов;\n",
    "метод add_revenue, который добавляет выручку одного отдела;\n",
    "метод average_revenue, который возвращает среднюю выручку по всем отделам."
   ]
  },
  {
   "cell_type": "code",
   "execution_count": 2,
   "metadata": {},
   "outputs": [],
   "source": [
    "class DepartmentReport():\n",
    "    def add_revenue(self, amount):\n",
    "        \"\"\"\n",
    "        Метод для добавления выручки отдела в список revenues.\n",
    "        Если атрибута revenues ещё не существует, метод должен создавать пустой список перед добавлением выручки.\n",
    "        \"\"\"\n",
    "        # ваш код\n",
    "        if not hasattr(self, 'revenues'):  \n",
    "            self.revenues = []  \n",
    "        # Добавим текущую сделку  \n",
    "        self.revenues.append(amount)\n",
    "    \n",
    "    def average_revenue(self):\n",
    "        \"\"\"\n",
    "        Метод возвращает среднюю выручку по отделам.\n",
    "        \"\"\"\n",
    "        return (sum(self.revenues) / len(self.revenues)) # ваш код"
   ]
  },
  {
   "cell_type": "code",
   "execution_count": 3,
   "metadata": {},
   "outputs": [
    {
     "name": "stdout",
     "output_type": "stream",
     "text": [
      "[1000000, 400000]\n",
      "700000.0\n"
     ]
    }
   ],
   "source": [
    "report = DepartmentReport()\n",
    "report.add_revenue(1_000_000)\n",
    "report.add_revenue(400_000)\n",
    "print(report.revenues)\n",
    "# => [1000000, 400000]\n",
    "print(report.average_revenue())\n",
    "# => 700000.0"
   ]
  },
  {
   "cell_type": "markdown",
   "metadata": {},
   "source": [
    "Задание 4.2\n",
    "1 point possible (graded)\n",
    "Улучшите класс DepartmentReport. Класс при инициализации должен принимать переменную company и инициализировать её значением атрибут company, а также инициализировать атрибут revenues пустым списком.\n",
    "\n",
    "Метод average_revenue должен возвращать строку \"Average department revenue for (company_name): (average_revenue)\"."
   ]
  },
  {
   "cell_type": "code",
   "execution_count": 21,
   "metadata": {},
   "outputs": [],
   "source": [
    "class DepartmentReport():\n",
    "\n",
    "    def __init__(self,company):\n",
    "        \"\"\"\n",
    "        Метод инициализации класса. \n",
    "        Создаёт атрибуты revenues и company\n",
    "        \"\"\"\n",
    "        self.revenues = []\n",
    "        self.company = company\n",
    "        #ваш код\n",
    "    \n",
    "    def add_revenue(self, amount):\n",
    "        \"\"\"\n",
    "        Метод для добавления выручки отдела в список revenues.\n",
    "        Если атрибута revenues ещё не существует, метод должен создавать пустой список перед добавлением выручки.\n",
    "        \"\"\"\n",
    "        self.revenues.append(amount)\n",
    "        #ваш код\n",
    "    \n",
    "    def average_revenue(self):\n",
    "        \"\"\"\n",
    "        Вычисляет average_revenue — среднюю выручку по отделам — округляя до целого.\n",
    "        Метод возвращает строку в формате:\n",
    "        'Average department revenue for <company>: <average_revenue>'\n",
    "        \"\"\"\n",
    "        average = round(sum(self.revenues) / len(self.revenues))\n",
    "        \n",
    "        #ваш код\n",
    "        return  f'Average department revenue for {self.company}: {average}' #ваш код"
   ]
  },
  {
   "cell_type": "code",
   "execution_count": 22,
   "metadata": {},
   "outputs": [
    {
     "name": "stdout",
     "output_type": "stream",
     "text": [
      "Average department revenue for Danon: 700000\n"
     ]
    }
   ],
   "source": [
    "report = DepartmentReport(\"Danon\")\n",
    "report.add_revenue(1_000_000)\n",
    "report.add_revenue(400_000)\n",
    "\n",
    "print(report.average_revenue())\n",
    "# => Average department revenue for Danon: 700000"
   ]
  },
  {
   "cell_type": "code",
   "execution_count": 26,
   "metadata": {},
   "outputs": [
    {
     "name": "stdout",
     "output_type": "stream",
     "text": [
      "Employee:  Ivan Semenov\n",
      "Total sales: 390000\n",
      "Average sales: 130000.0\n",
      "Companies: ['SkyEng', 'SkyEng3', 'PepsiCo']\n",
      "Employee:  Ivanov\n",
      "Total sales: 390000\n",
      "Average sales: 130000.0\n",
      "Companies: ['SkyEng', 'PepsiCo']\n"
     ]
    }
   ],
   "source": [
    "class SalesReport():  \n",
    "    def __init__(self, employee_name):  \n",
    "        self.deals = []  \n",
    "        self.employee_name = employee_name  \n",
    "      \n",
    "    def add_deal(self, company, amount):   \n",
    "        self.deals.append({'company': company, 'amount': amount})  \n",
    "          \n",
    "    def total_amount(self):  \n",
    "        return sum([deal['amount'] for deal in self.deals])  \n",
    "      \n",
    "    def average_deal(self):  \n",
    "        return self.total_amount()/len(self.deals)  \n",
    "      \n",
    "    def all_companies(self):  \n",
    "        return list(set([deal['company'] for deal in self.deals]))  \n",
    "      \n",
    "    def print_report(self):  \n",
    "        print(\"Employee: \", self.employee_name)  \n",
    "        print(\"Total sales:\", self.total_amount())  \n",
    "        print(\"Average sales:\", self.average_deal())  \n",
    "        print(\"Companies:\", self.all_companies())  \n",
    "      \n",
    "      \n",
    "report = SalesReport(\"Ivan Semenov\")  \n",
    "\n",
    "report.add_deal(\"PepsiCo\", 120000)  \n",
    "report.add_deal(\"SkyEng\", 250000)  \n",
    "report.add_deal(\"SkyEng3\", 20000)  \n",
    "  \n",
    "report.print_report()\n",
    "\n",
    "report = SalesReport(\"Ivanov\")\n",
    "  \n",
    "report.add_deal(\"PepsiCo\", 120_000)  \n",
    "report.add_deal(\"SkyEng\", 250_000)  \n",
    "report.add_deal(\"PepsiCo\", 20_000)  \n",
    "  \n",
    "report.print_report()  \n",
    "# => Employee:  Ivan Semenov  \n",
    "# Total sales: 390000  \n",
    "# Average sales: 130000.0  \n",
    "# Companies: ['PepsiCo', 'SkyEng'] "
   ]
  },
  {
   "cell_type": "markdown",
   "metadata": {},
   "source": [
    "Задание 5.1\n",
    "1 point possible (graded)\n",
    "Определите класс для пользователей User:\n",
    "\n",
    "у него должны быть атрибуты email, password и balance, которые устанавливаются при инициализации;\n",
    "у него должен быть метод login, который принимает емайл и пароль. Если они совпадают с атрибутами объекта, он возвращает True, а иначе — False;\n",
    "должен быть метод update_balance(amount), который изменяет баланс счёта на величину amount.\n",
    "В случае правильного описания класса код, приведённый ниже, должен выдать следующий результат:"
   ]
  },
  {
   "cell_type": "code",
   "execution_count": 44,
   "metadata": {},
   "outputs": [],
   "source": [
    "class User():  \n",
    "    # Базовые данные  \n",
    "    def __init__(self, email, password, balance):  \n",
    "        self.email = email  \n",
    "        self.password = password  \n",
    "        self.balance = balance  \n",
    "        update_balance = 0\n",
    "       \n",
    "    def login(self, email, password):\n",
    "        if email == self.email and password == self.password:\n",
    "            return True\n",
    "        else: return False\n",
    "  \n",
    "    def update_balance(self, amount):   \n",
    "        self.balance += amount \n",
    "        return self.balance \n",
    "             "
   ]
  },
  {
   "cell_type": "code",
   "execution_count": 46,
   "metadata": {},
   "outputs": [
    {
     "name": "stdout",
     "output_type": "stream",
     "text": [
      "19700\n"
     ]
    }
   ],
   "source": [
    "user = User(\"gosha@roskino.org\", \"qwerty\", 20_000)\n",
    "user.login(\"gosha@roskino.org\", \"qwerty123\")\n",
    "# => False\n",
    "user.login(\"gosha@roskino.org\", \"qwerty\")\n",
    "# # => True\n",
    "user.update_balance(200)\n",
    "user.update_balance(-500)\n",
    "print(user.balance)\n",
    "# # => 19700"
   ]
  },
  {
   "cell_type": "markdown",
   "metadata": {},
   "source": [
    "Задание 5.2\n",
    "1 point possible (graded)\n",
    "Определите класс IntDataFrame, который принимает список неотрицательных чисел и приводит к целым значениям все числа в этом списке. После этого становится доступен метод count, который считает количество ненулевых элементов, и метод unique, который возвращает число уникальных элементов.\n",
    "\n",
    "В случае правильного описания класса код, приведённый ниже, должен выдать следующий результат:\n",
    "\n",
    "df = IntDataFrame([4.7, 4, 3, 0, 2.4, 0.3, 4])\n",
    "\n",
    "df.count()\n",
    "# => 5\n",
    "df.unique()\n",
    "# => 4"
   ]
  },
  {
   "cell_type": "code",
   "execution_count": 84,
   "metadata": {},
   "outputs": [],
   "source": [
    "class IntDataFrame():  \n",
    "    def __init__(self, column):  \n",
    "        # Инициализируем атрибуты  \n",
    "        self.column = column \n",
    "        self.counting = 0\n",
    "        self.unique_value = 0\n",
    "                 \n",
    "        # Округление  \n",
    "        self.rounding()  \n",
    "                              \n",
    "    def rounding(self):  \n",
    "        self.column = [int(value) for value in self.column]  \n",
    "            \n",
    "    def count(self):\n",
    "        for i in self.column:  \n",
    "            if i > 0:  \n",
    "                self.counting += 1\n",
    "                \n",
    "        return(f'количество ненулевых элементов = {self.counting}' )\n",
    "    \n",
    "    def unique(self):\n",
    "        self.unique_value = len(set(self.column))\n",
    "        \n",
    "        return(f' количесиво уникальных элементов = {self.unique_value}')  \n",
    "        "
   ]
  },
  {
   "cell_type": "code",
   "execution_count": 82,
   "metadata": {},
   "outputs": [
    {
     "name": "stdout",
     "output_type": "stream",
     "text": [
      "0\n"
     ]
    },
    {
     "data": {
      "text/plain": [
       "'количество ненулевых элементов = 5'"
      ]
     },
     "execution_count": 82,
     "metadata": {},
     "output_type": "execute_result"
    }
   ],
   "source": [
    "df = IntDataFrame([4.7, 4, 3, 0, 2.4, 0.3, 4])\n",
    "\n",
    "df.count()\n",
    "# => 5\n",
    "# df.unique()\n",
    "# # => 4"
   ]
  },
  {
   "cell_type": "code",
   "execution_count": 83,
   "metadata": {},
   "outputs": [
    {
     "data": {
      "text/plain": [
       "' количесиво уникальных элементов = 4'"
      ]
     },
     "execution_count": 83,
     "metadata": {},
     "output_type": "execute_result"
    }
   ],
   "source": [
    "df.unique()\n",
    "# => 4"
   ]
  },
  {
   "cell_type": "markdown",
   "metadata": {},
   "source": [
    "Задание 5.3\n",
    "1 point possible (graded)\n",
    "Напишите класс сборщика технических сообщений OwnLogger.\n",
    "\n",
    "У него должен быть метод log(message, level), который записывает сообщения. Здесь сообщение message может быть любым, а level — один из \"info\", \"warning\", \"error\".\n",
    "Также примените метод show_last(level), где level может быть \"info\", \"warning\", \"error\", \"all\". Для \"all\" он просто возвращает последнее добавленное сообщение, а для остальных — последнее поступившее сообщение соответствующего уровня.\n",
    "При этом по умолчанию значение именно \"all\". Если подходящего сообщения нет, возвращает None.\n",
    "\n",
    "logger = OwnLogger()\n",
    "logger.log(\"System started\", \"info\")\n",
    "logger.show_last(\"error\")\n",
    "# => None\n",
    "# Некоторые интерпретаторы Python могут не выводить None, тогда в этой проверке у вас будет пустая строка\n",
    "logger.log(\"Connection instable\", \"warning\")\n",
    "logger.log(\"Connection lost\", \"error\")\n",
    "\n",
    "logger.show_last()\n",
    "# => Connection lost\n",
    "logger.show_last(\"info\")\n",
    "# => System started"
   ]
  },
  {
   "cell_type": "code",
   "execution_count": 296,
   "metadata": {},
   "outputs": [],
   "source": [
    "class OwnLogger():\n",
    "   def __init__(self):\n",
    "       self.logs = {\"info\": None, \"warning\": None, \"error\": None, \"all\": None}\n",
    "       print(self.logs)\n",
    "   def log(self, message, level):\n",
    "       self.logs[level] = message\n",
    "       self.logs['all'] = message\n",
    "       print(self.logs)\n",
    "   def show_last(self, level='all'):\n",
    "       return self.logs[level]"
   ]
  },
  {
   "cell_type": "code",
   "execution_count": 298,
   "metadata": {},
   "outputs": [
    {
     "name": "stdout",
     "output_type": "stream",
     "text": [
      "{'info': None, 'warning': None, 'error': None, 'all': None}\n",
      "{'info': 'System started', 'warning': None, 'error': None, 'all': 'System started'}\n",
      "{'info': 'System started', 'warning': 'Connection instable', 'error': None, 'all': 'Connection instable'}\n",
      "{'info': 'System started', 'warning': 'Connection instable', 'error': 'Connection lost', 'all': 'Connection lost'}\n",
      "{'info': 'System started', 'warning': 'Connection instable_2', 'error': 'Connection lost', 'all': 'Connection instable_2'}\n"
     ]
    },
    {
     "data": {
      "text/plain": [
       "'Connection instable_2'"
      ]
     },
     "execution_count": 298,
     "metadata": {},
     "output_type": "execute_result"
    }
   ],
   "source": [
    "logger = OwnLogger()\n",
    "logger.log(\"System started\", \"info\")\n",
    "logger.show_last(\"error\")\n",
    "# => None\n",
    "# Некоторые интерпретаторы Python могут не выводить None, тогда в этой проверке у вас будет пустая строка\n",
    "logger.log(\"Connection instable\", \"warning\")\n",
    "logger.log(\"Connection lost\", \"error\")\n",
    "logger.log(\"Connection instable_2\", \"warning\")\n",
    "\n",
    "logger.show_last()\n",
    "# => Connection lost\n",
    "logger.show_last()\n",
    "# => System started"
   ]
  },
  {
   "cell_type": "code",
   "execution_count": 301,
   "metadata": {},
   "outputs": [],
   "source": [
    "class OwnLogger():  \n",
    "    def __init__(self):  \n",
    "        self.logs = dict()\n",
    "        self.last_entry = ''        \n",
    "      \n",
    "    def log(self, message, level):\n",
    "        \n",
    "        self.logs[level] = message\n",
    "        self.last_entry = message\n",
    "        \n",
    "    def show_last(self, level='all'):\n",
    "        if level == 'all':\n",
    "            return self.last_entry\n",
    "        elif level not in self.logs:\n",
    "            return None\n",
    "        else: return self.logs[level]\n",
    "            \n",
    "        "
   ]
  },
  {
   "cell_type": "code",
   "execution_count": 306,
   "metadata": {},
   "outputs": [
    {
     "data": {
      "text/plain": [
       "'Connection lost'"
      ]
     },
     "execution_count": 306,
     "metadata": {},
     "output_type": "execute_result"
    }
   ],
   "source": [
    "logger = OwnLogger()\n",
    "logger.log(\"System started\", \"info\")\n",
    "logger.show_last(\"error\")\n",
    "# => None\n",
    "# Некоторые интерпретаторы Python могут не выводить None, тогда в этой проверке у вас будет пустая строка\n",
    "logger.log(\"Connection instable\", \"warning\")\n",
    "logger.log(\"Connection lost\", \"error\")\n",
    "logger.log(\"Connection instable_2\", \"warning\")\n",
    "\n",
    "logger.show_last()\n",
    "# # => Connection lost\n",
    "logger.show_last(\"error\")\n",
    "# # => System started"
   ]
  },
  {
   "cell_type": "code",
   "execution_count": 285,
   "metadata": {},
   "outputs": [],
   "source": [
    "import pandas as pd  \n",
    "\n",
    "  \n",
    "class OwnLogger():  \n",
    "    def __init__(self):  \n",
    "        self.entry_count = 0\n",
    "        self.logs = pd.DataFrame()\n",
    "        \n",
    "        \n",
    "      \n",
    "    def log(self, message, level):\n",
    "        \n",
    "        self.entry_count += 1\n",
    "        new_entry = (self.entry_count, message, level)\n",
    "        \n",
    "        new_entry = pd.Series(new_entry)\n",
    "        \n",
    "        self.logs = self.logs.append(new_entry, ignore_index=True)\n",
    "        # print(self.logs)\n",
    "        # print(self.logs.iloc[-1][1])\n",
    "        # print(len(self.logs))\n",
    "        \n",
    "    def show_last(self, level='all', last_entry = None):\n",
    "        if level == 'all':\n",
    "            last_entry = self.logs.iloc[-1][1]\n",
    "            print('last entry', last_entry)\n",
    "            print('len', len(self.logs))\n",
    "            \n",
    "        else:\n",
    "            for i in self.logs:\n",
    "                print('i', i)\n",
    "                if i == 0:\n",
    "                    display(self.logs)\n",
    "                    print('data', self.logs[1][i], sep='\\n')\n",
    "                else:\n",
    "                    print('else data', self.logs, self.logs[1][i], sep='\\n')\n",
    "                # if self.logs[-i][1] == level:\n",
    "                #     return self.logs[-i][0]\n",
    "                # break   \n",
    "        return last_entry\n",
    "    \n",
    "             \n",
    "          \n",
    "     "
   ]
  },
  {
   "cell_type": "code",
   "execution_count": 289,
   "metadata": {},
   "outputs": [
    {
     "name": "stdout",
     "output_type": "stream",
     "text": [
      "\n",
      "last entry System started_3\n",
      "len 3\n",
      "i 0\n"
     ]
    },
    {
     "name": "stderr",
     "output_type": "stream",
     "text": [
      "C:\\Users\\Alexey\\AppData\\Local\\Temp\\ipykernel_1972\\1711971349.py:18: FutureWarning: The frame.append method is deprecated and will be removed from pandas in a future version. Use pandas.concat instead.\n",
      "  self.logs = self.logs.append(new_entry, ignore_index=True)\n",
      "C:\\Users\\Alexey\\AppData\\Local\\Temp\\ipykernel_1972\\1711971349.py:18: FutureWarning: The frame.append method is deprecated and will be removed from pandas in a future version. Use pandas.concat instead.\n",
      "  self.logs = self.logs.append(new_entry, ignore_index=True)\n"
     ]
    },
    {
     "data": {
      "text/html": [
       "<div>\n",
       "<style scoped>\n",
       "    .dataframe tbody tr th:only-of-type {\n",
       "        vertical-align: middle;\n",
       "    }\n",
       "\n",
       "    .dataframe tbody tr th {\n",
       "        vertical-align: top;\n",
       "    }\n",
       "\n",
       "    .dataframe thead th {\n",
       "        text-align: right;\n",
       "    }\n",
       "</style>\n",
       "<table border=\"1\" class=\"dataframe\">\n",
       "  <thead>\n",
       "    <tr style=\"text-align: right;\">\n",
       "      <th></th>\n",
       "      <th>0</th>\n",
       "      <th>1</th>\n",
       "      <th>2</th>\n",
       "    </tr>\n",
       "  </thead>\n",
       "  <tbody>\n",
       "    <tr>\n",
       "      <th>0</th>\n",
       "      <td>1</td>\n",
       "      <td>System started</td>\n",
       "      <td>info</td>\n",
       "    </tr>\n",
       "    <tr>\n",
       "      <th>1</th>\n",
       "      <td>2</td>\n",
       "      <td>System started_2</td>\n",
       "      <td>info</td>\n",
       "    </tr>\n",
       "    <tr>\n",
       "      <th>2</th>\n",
       "      <td>3</td>\n",
       "      <td>System started_3</td>\n",
       "      <td>info_3</td>\n",
       "    </tr>\n",
       "  </tbody>\n",
       "</table>\n",
       "</div>"
      ],
      "text/plain": [
       "   0                 1       2\n",
       "0  1    System started    info\n",
       "1  2  System started_2    info\n",
       "2  3  System started_3  info_3"
      ]
     },
     "metadata": {},
     "output_type": "display_data"
    },
    {
     "name": "stdout",
     "output_type": "stream",
     "text": [
      "data\n",
      "System started\n",
      "i 1\n",
      "else data\n",
      "   0                 1       2\n",
      "0  1    System started    info\n",
      "1  2  System started_2    info\n",
      "2  3  System started_3  info_3\n",
      "System started_2\n",
      "i 2\n",
      "else data\n",
      "   0                 1       2\n",
      "0  1    System started    info\n",
      "1  2  System started_2    info\n",
      "2  3  System started_3  info_3\n",
      "System started_3\n"
     ]
    }
   ],
   "source": [
    "logger = OwnLogger()\n",
    "logger.log(\"System started\", \"info\")\n",
    "logger.log(\"System started_2\", \"info\")\n",
    "logger.log(\"System started_3\", \"info_3\")\n",
    "print()\n",
    "logger.show_last()\n",
    "logger.show_last(\"info\")"
   ]
  },
  {
   "cell_type": "code",
   "execution_count": 307,
   "metadata": {},
   "outputs": [
    {
     "ename": "SyntaxError",
     "evalue": "EOL while scanning string literal (3474201212.py, line 5)",
     "output_type": "error",
     "traceback": [
      "\u001b[1;36m  Input \u001b[1;32mIn [307]\u001b[1;36m\u001b[0m\n\u001b[1;33m    return 'Paw\"\u001b[0m\n\u001b[1;37m                ^\u001b[0m\n\u001b[1;31mSyntaxError\u001b[0m\u001b[1;31m:\u001b[0m EOL while scanning string literal\n"
     ]
    }
   ],
   "source": [
    "class Dog():\n",
    "    def bark():\n",
    "        return \"Bark!\"\n",
    "    def give_paw():\n",
    "        return 'Paw'"
   ]
  },
  {
   "cell_type": "markdown",
   "metadata": {},
   "source": [
    "7. Применение ООП для работы с файлами"
   ]
  },
  {
   "cell_type": "code",
   "execution_count": 308,
   "metadata": {},
   "outputs": [
    {
     "name": "stdout",
     "output_type": "stream",
     "text": [
      "d:\\IDE\\разное\n"
     ]
    }
   ],
   "source": [
    "# получить текущий путь\n",
    "start_path = os.getcwd()\n",
    "print(start_path) # /home/nbuser/library"
   ]
  },
  {
   "cell_type": "code",
   "execution_count": 309,
   "metadata": {},
   "outputs": [
    {
     "data": {
      "text/plain": [
       "'d:\\\\IDE'"
      ]
     },
     "execution_count": 309,
     "metadata": {},
     "output_type": "execute_result"
    }
   ],
   "source": [
    "os.chdir(\"..\") # подняться на один уровень выше\n",
    "os.getcwd() # '/home/nbuser'"
   ]
  },
  {
   "cell_type": "code",
   "execution_count": 310,
   "metadata": {},
   "outputs": [
    {
     "name": "stdout",
     "output_type": "stream",
     "text": [
      "['.git', '.gitignore', 'Project_0', 'PY_10_Введение в Pandas', 'PY_13_Визуализация', 'PY_14_Очистка данных', 'PY_15_ООП и Отладка кода', 'README.md', 'разное']\n",
      "Файл отсутствует в данной директории\n"
     ]
    }
   ],
   "source": [
    "# список файлов и директорий в папке\n",
    "import os\n",
    "\n",
    "print(os.listdir()) # ['SnapchatLoader', 'FBLoader', 'tmp.py', '.gitignore', 'venv', '.git']\n",
    "\n",
    "if 'tmp.py' not in os.listdir():\n",
    "    print(\"Файл отсутствует в данной директории\")"
   ]
  },
  {
   "cell_type": "code",
   "execution_count": 311,
   "metadata": {},
   "outputs": [
    {
     "name": "stdout",
     "output_type": "stream",
     "text": [
      "d:\\IDE\\разное\n",
      "d:\\IDE\\разное\\test\n"
     ]
    }
   ],
   "source": [
    "# соединяет пути с учётом особенностей операционной системы\n",
    "print(start_path)\n",
    "print(os.path.join(start_path, 'test'))"
   ]
  },
  {
   "cell_type": "markdown",
   "metadata": {},
   "source": [
    "Задание 7.3\n",
    "Задание на самопроверку.\n",
    "\n",
    "Сделайте функцию, которая принимает от пользователя путь и выводит всю информацию о содержимом этой папки. Для реализации используйте функцию встроенного модуля os.walk(). Если путь не указан, то сравнение начинается с текущей директории."
   ]
  },
  {
   "cell_type": "code",
   "execution_count": 6,
   "metadata": {},
   "outputs": [
    {
     "name": "stdout",
     "output_type": "stream",
     "text": [
      "('d:\\\\IDE\\\\разное', [], ['Alphabet Rangoli.py', 'HR_time delta.py', 'Lesson.ipynb', 'Numpy draft.py'])\n"
     ]
    }
   ],
   "source": [
    "import os\n",
    "\n",
    "def path_info(path=None):\n",
    "    path = path if path is not None else os.getcwd()\n",
    "    \n",
    "    result = os.walk(path)\n",
    "    \n",
    "    for item in result:\n",
    "        print(item, sep='\\n')\n",
    "\n",
    "path_info()\n"
   ]
  },
  {
   "cell_type": "markdown",
   "metadata": {},
   "source": [
    "Эталонноое решение"
   ]
  },
  {
   "cell_type": "code",
   "execution_count": 7,
   "metadata": {},
   "outputs": [
    {
     "name": "stdout",
     "output_type": "stream",
     "text": [
      "Текущая директория d:\\IDE\\разное\n",
      "---\n",
      "Папок нет\n",
      "---\n",
      "Список файлов ['Alphabet Rangoli.py', 'HR_time delta.py', 'Lesson.ipynb', 'Numpy draft.py']\n",
      "---\n",
      "Файл  d:\\IDE\\разное\\Alphabet Rangoli.py\n",
      "Файл  d:\\IDE\\разное\\HR_time delta.py\n",
      "Файл  d:\\IDE\\разное\\Lesson.ipynb\n",
      "Файл  d:\\IDE\\разное\\Numpy draft.py\n",
      "===\n"
     ]
    }
   ],
   "source": [
    "import os\n",
    "\n",
    "def walk_desc(path=None):\n",
    "    start_path = path if path is not None else os.getcwd()\n",
    "\n",
    "    for root, dirs, files in os.walk(start_path):\n",
    "        print(\"Текущая директория\", root)\n",
    "        print(\"---\")\n",
    "\n",
    "        if dirs:\n",
    "            print(\"Список папок\", dirs)\n",
    "        else:\n",
    "            print(\"Папок нет\")\n",
    "        print(\"---\")\n",
    "\n",
    "        if files:\n",
    "            print(\"Список файлов\", files)\n",
    "        else:\n",
    "            print(\"Файлов нет\")\n",
    "        print(\"---\")\n",
    "\n",
    "        if files and dirs:\n",
    "            print(\"Все пути:\")\n",
    "        for f in files:\n",
    "            print(\"Файл \", os.path.join(root, f))\n",
    "        for d in dirs:\n",
    "            print(\"Папка \", os.path.join(root, d))\n",
    "        print(\"===\")\n",
    "\n",
    "walk_desc()"
   ]
  },
  {
   "cell_type": "markdown",
   "metadata": {},
   "source": [
    "Задание 7.4\n",
    "Задание на самопроверку.\n",
    "\n",
    "Создайте любой файл на операционной системе под название input.txt и построчно перепишите его в файл output.txt."
   ]
  },
  {
   "cell_type": "code",
   "execution_count": 23,
   "metadata": {},
   "outputs": [
    {
     "name": "stdout",
     "output_type": "stream",
     "text": [
      "['other string\\n', '123\\n', 'test test\\n']\n",
      "other string\n",
      "123\n",
      "test test\n"
     ]
    }
   ],
   "source": [
    "f = open('input.txt', 'w', encoding='utf8')\n",
    "\n",
    "\n",
    "sequence = [\"other string\\n\", \"123\\n\", \"test test\\n\"]\n",
    "f.writelines(sequence) # берет строки из sequence и записывает в файл (без переносов)\n",
    "f.close()\n",
    "\n",
    "f = open('input.txt', 'r', encoding='utf8')\n",
    "\n",
    "print(f.readlines()) # считывает все строки в список и возвращает список\n",
    "\n",
    "f.close()\n",
    "\n",
    "f2 = open('output.txt', 'w', encoding='utf8')\n",
    "with open(\"input.txt\", 'r') as f:\n",
    "    for line in f:\n",
    "        f2.write(line)\n",
    "f2.close()\n",
    "\n",
    "with open(\"output.txt\", 'r') as f2:\n",
    "    for line in f2:\n",
    "        \n",
    "        print(line.strip())\n",
    "        \n"
   ]
  },
  {
   "cell_type": "markdown",
   "metadata": {},
   "source": [
    "эталонное решение"
   ]
  },
  {
   "cell_type": "code",
   "execution_count": null,
   "metadata": {},
   "outputs": [],
   "source": [
    "with open(\"input.txt\", \"r\") as input_file:\n",
    "    with open(\"output.txt\", \"w\") as output_file:\n",
    "        for line in input_file:\n",
    "            output_file.write(line)"
   ]
  },
  {
   "cell_type": "markdown",
   "metadata": {},
   "source": [
    "Задание 7.5\n",
    "Задание на самопроверку.\n",
    "\n",
    "Дан файл numbers.txt, компоненты которого являются действительными числами (файл создайте самостоятельно и заполните любыми числам, в одной строке одно число). Найдите сумму наибольшего и наименьшего из значений и запишите результат в файл output.txt."
   ]
  },
  {
   "cell_type": "code",
   "execution_count": 45,
   "metadata": {},
   "outputs": [
    {
     "name": "stdout",
     "output_type": "stream",
     "text": [
      "0\n",
      "2\n",
      "8\n",
      "1\n",
      "min number = 1\n",
      "\n",
      "max number = 8\n"
     ]
    }
   ],
   "source": [
    "numbers = open('numbers.txt', 'w', encoding='utf8')\n",
    "numbers.writelines(['2\\n', '3\\n', '5\\n', '6\\n', '7\\n', '8\\n', '1\\n'])\n",
    "numbers.close()\n",
    "\n",
    "\n",
    "with open('numbers.txt', 'r') as numbers:\n",
    "    with open('output.txt', 'w') as output_result:\n",
    "        max_num = 0\n",
    "        min_num = int(numbers.readline())\n",
    "        print(max_num)\n",
    "        print(min_num)\n",
    "        for line in numbers:\n",
    "            if int(line) > max_num:\n",
    "                max_num = int(line)\n",
    "            if int(line) < min_num:\n",
    "                min_num = int(line)\n",
    "        print(max_num)\n",
    "        print(min_num)\n",
    "        # min_line = ['min number = ', min_num]\n",
    "        # max_line = ['max number = ', max_num]\n",
    "        output_result.write('min number = ')\n",
    "        output_result.write(str(min_num))\n",
    "        output_result.write('\\n')\n",
    "        output_result.write('max number = ')\n",
    "        output_result.write(str(max_num))\n",
    "        \n",
    "\n",
    "f = open('output.txt', 'r', encoding='utf8')\n",
    "for line in f:\n",
    "    print(line)\n",
    "\n",
    "#  with open('output.txt', 'r') as output_result:\n",
    "#      for line in output_result:\n",
    "#          print(line.strip())\n",
    "        "
   ]
  },
  {
   "cell_type": "markdown",
   "metadata": {},
   "source": [
    "Задание 7.6\n",
    "Задание на самопроверку.\n",
    "\n",
    "В текстовый файл построчно записаны фамилии и имена учащихся класса и их оценки за контрольную. Подсчитайте количество учащихся, чья оценка меньше 3 баллов. Cодержание файла:"
   ]
  },
  {
   "cell_type": "code",
   "execution_count": 63,
   "metadata": {},
   "outputs": [
    {
     "name": "stdout",
     "output_type": "stream",
     "text": [
      "4\n"
     ]
    }
   ],
   "source": [
    "# name = list()\n",
    "# result = list()\n",
    "text_file = open('text_file.txt', 'r', encoding='utf8')\n",
    "count = 0\n",
    "for line in text_file:\n",
    "    # print(line)\n",
    "    # new_name = line[:-3]\n",
    "    new_result = line[-2:]\n",
    "    if int(new_result) < 3:\n",
    "        count += 1\n",
    "    # print(new_name, '-', new_result)\n",
    "    # name.append(new_name)\n",
    "    # result.append(new_result)\n",
    "    \n",
    "text_file.close()\n",
    "\n",
    "\n",
    "print(count)\n",
    "    "
   ]
  },
  {
   "cell_type": "markdown",
   "metadata": {},
   "source": [
    "эталонное решение"
   ]
  },
  {
   "cell_type": "code",
   "execution_count": 60,
   "metadata": {},
   "outputs": [
    {
     "ename": "UnicodeDecodeError",
     "evalue": "'charmap' codec can't decode byte 0x98 in position 1: character maps to <undefined>",
     "output_type": "error",
     "traceback": [
      "\u001b[1;31m---------------------------------------------------------------------------\u001b[0m",
      "\u001b[1;31mUnicodeDecodeError\u001b[0m                        Traceback (most recent call last)",
      "\u001b[1;32md:\\IDE\\разное\\Lesson.ipynb Cell 42'\u001b[0m in \u001b[0;36m<cell line: 2>\u001b[1;34m()\u001b[0m\n\u001b[0;32m      <a href='vscode-notebook-cell:/d%3A/IDE/%D1%80%D0%B0%D0%B7%D0%BD%D0%BE%D0%B5/Lesson.ipynb#ch0000041?line=0'>1</a>\u001b[0m count \u001b[39m=\u001b[39m \u001b[39m0\u001b[39m\n\u001b[1;32m----> <a href='vscode-notebook-cell:/d%3A/IDE/%D1%80%D0%B0%D0%B7%D0%BD%D0%BE%D0%B5/Lesson.ipynb#ch0000041?line=1'>2</a>\u001b[0m \u001b[39mfor\u001b[39;00m line \u001b[39min\u001b[39;00m \u001b[39mopen\u001b[39m(\u001b[39m\"\u001b[39m\u001b[39mtext_file.txt\u001b[39m\u001b[39m\"\u001b[39m):\n\u001b[0;32m      <a href='vscode-notebook-cell:/d%3A/IDE/%D1%80%D0%B0%D0%B7%D0%BD%D0%BE%D0%B5/Lesson.ipynb#ch0000041?line=2'>3</a>\u001b[0m     points \u001b[39m=\u001b[39m \u001b[39mint\u001b[39m(line\u001b[39m.\u001b[39msplit()[\u001b[39m-\u001b[39m\u001b[39m1\u001b[39m])\n\u001b[0;32m      <a href='vscode-notebook-cell:/d%3A/IDE/%D1%80%D0%B0%D0%B7%D0%BD%D0%BE%D0%B5/Lesson.ipynb#ch0000041?line=3'>4</a>\u001b[0m     \u001b[39mif\u001b[39;00m points \u001b[39m<\u001b[39m \u001b[39m3\u001b[39m:\n",
      "File \u001b[1;32mc:\\Users\\Alexey\\AppData\\Local\\Programs\\Python\\Python39\\lib\\encodings\\cp1251.py:23\u001b[0m, in \u001b[0;36mIncrementalDecoder.decode\u001b[1;34m(self, input, final)\u001b[0m\n\u001b[0;32m     22\u001b[0m \u001b[39mdef\u001b[39;00m \u001b[39mdecode\u001b[39m(\u001b[39mself\u001b[39m, \u001b[39minput\u001b[39m, final\u001b[39m=\u001b[39m\u001b[39mFalse\u001b[39;00m):\n\u001b[1;32m---> 23\u001b[0m     \u001b[39mreturn\u001b[39;00m codecs\u001b[39m.\u001b[39;49mcharmap_decode(\u001b[39minput\u001b[39;49m,\u001b[39mself\u001b[39;49m\u001b[39m.\u001b[39;49merrors,decoding_table)[\u001b[39m0\u001b[39m]\n",
      "\u001b[1;31mUnicodeDecodeError\u001b[0m: 'charmap' codec can't decode byte 0x98 in position 1: character maps to <undefined>"
     ]
    }
   ],
   "source": [
    "count = 0\n",
    "for line in open(\"text_file.txt\"):\n",
    "    points = int(line.split()[-1])\n",
    "    if points < 3:\n",
    "        count += 1"
   ]
  },
  {
   "cell_type": "markdown",
   "metadata": {},
   "source": [
    "Задание 7.7\n",
    "Задание на самопроверку.\n",
    "\n",
    "Выполните реверсирование строк файла (перестановку строк файла в обратном порядке)."
   ]
  },
  {
   "cell_type": "markdown",
   "metadata": {},
   "source": [
    "эталонное решение"
   ]
  },
  {
   "cell_type": "code",
   "execution_count": null,
   "metadata": {},
   "outputs": [],
   "source": [
    "with open(\"input.txt\", \"r\") as input_file:\n",
    "    with open(\"output.txt\", \"w\") as output_file:\n",
    "        for line in reversed(input_file.readlines()):\n",
    "            output_file.write(line)"
   ]
  },
  {
   "cell_type": "markdown",
   "metadata": {},
   "source": [
    "8. Исключения"
   ]
  },
  {
   "cell_type": "markdown",
   "metadata": {},
   "source": [
    "Задание 8.7\n",
    "Задание на самопроверку.\n",
    "\n",
    "Создать скрипт, который будет в input() принимать строки, и их необходимо будет конвертировать в числа, добавить try-except на то, чтобы строки могли быть сконвертированы в числа.\n",
    "\n",
    "В случае удачного выполнения скрипта написать: «Вы ввели <введённое число>».\n",
    "\n",
    "В конце скрипта обязательно написать: «Выход из программы».\n",
    "\n",
    "ПРИМЕЧАНИЕ: Для отлова ошибок используйте try-except, а также блоки finally и else."
   ]
  },
  {
   "cell_type": "code",
   "execution_count": 1,
   "metadata": {},
   "outputs": [
    {
     "ename": "KeyboardInterrupt",
     "evalue": "Interrupted by user",
     "output_type": "error",
     "traceback": [
      "\u001b[1;31m---------------------------------------------------------------------------\u001b[0m",
      "\u001b[1;31mKeyboardInterrupt\u001b[0m                         Traceback (most recent call last)",
      "\u001b[1;32md:\\IDE\\разное\\Lesson.ipynb Cell 1'\u001b[0m in \u001b[0;36m<cell line: 1>\u001b[1;34m()\u001b[0m\n\u001b[1;32m----> <a href='vscode-notebook-cell:/d%3A/IDE/%D1%80%D0%B0%D0%B7%D0%BD%D0%BE%D0%B5/Lesson.ipynb#ch0000000?line=0'>1</a>\u001b[0m a \u001b[39m=\u001b[39m \u001b[39minput\u001b[39;49m(\u001b[39m\"\u001b[39;49m\u001b[39mвведите число: \u001b[39;49m\u001b[39m\"\u001b[39;49m)\n\u001b[0;32m      <a href='vscode-notebook-cell:/d%3A/IDE/%D1%80%D0%B0%D0%B7%D0%BD%D0%BE%D0%B5/Lesson.ipynb#ch0000000?line=1'>2</a>\u001b[0m \u001b[39mtry\u001b[39;00m:\n\u001b[0;32m      <a href='vscode-notebook-cell:/d%3A/IDE/%D1%80%D0%B0%D0%B7%D0%BD%D0%BE%D0%B5/Lesson.ipynb#ch0000000?line=2'>3</a>\u001b[0m     b \u001b[39m=\u001b[39m \u001b[39mint\u001b[39m(a)\n",
      "File \u001b[1;32mc:\\Users\\Alexey\\AppData\\Local\\Programs\\Python\\Python39\\lib\\site-packages\\ipykernel\\kernelbase.py:1161\u001b[0m, in \u001b[0;36mKernel.raw_input\u001b[1;34m(self, prompt)\u001b[0m\n\u001b[0;32m   1157\u001b[0m \u001b[39mif\u001b[39;00m \u001b[39mnot\u001b[39;00m \u001b[39mself\u001b[39m\u001b[39m.\u001b[39m_allow_stdin:\n\u001b[0;32m   1158\u001b[0m     \u001b[39mraise\u001b[39;00m StdinNotImplementedError(\n\u001b[0;32m   1159\u001b[0m         \u001b[39m\"\u001b[39m\u001b[39mraw_input was called, but this frontend does not support input requests.\u001b[39m\u001b[39m\"\u001b[39m\n\u001b[0;32m   1160\u001b[0m     )\n\u001b[1;32m-> 1161\u001b[0m \u001b[39mreturn\u001b[39;00m \u001b[39mself\u001b[39;49m\u001b[39m.\u001b[39;49m_input_request(\n\u001b[0;32m   1162\u001b[0m     \u001b[39mstr\u001b[39;49m(prompt),\n\u001b[0;32m   1163\u001b[0m     \u001b[39mself\u001b[39;49m\u001b[39m.\u001b[39;49m_parent_ident[\u001b[39m\"\u001b[39;49m\u001b[39mshell\u001b[39;49m\u001b[39m\"\u001b[39;49m],\n\u001b[0;32m   1164\u001b[0m     \u001b[39mself\u001b[39;49m\u001b[39m.\u001b[39;49mget_parent(\u001b[39m\"\u001b[39;49m\u001b[39mshell\u001b[39;49m\u001b[39m\"\u001b[39;49m),\n\u001b[0;32m   1165\u001b[0m     password\u001b[39m=\u001b[39;49m\u001b[39mFalse\u001b[39;49;00m,\n\u001b[0;32m   1166\u001b[0m )\n",
      "File \u001b[1;32mc:\\Users\\Alexey\\AppData\\Local\\Programs\\Python\\Python39\\lib\\site-packages\\ipykernel\\kernelbase.py:1205\u001b[0m, in \u001b[0;36mKernel._input_request\u001b[1;34m(self, prompt, ident, parent, password)\u001b[0m\n\u001b[0;32m   1202\u001b[0m             \u001b[39mbreak\u001b[39;00m\n\u001b[0;32m   1203\u001b[0m \u001b[39mexcept\u001b[39;00m \u001b[39mKeyboardInterrupt\u001b[39;00m:\n\u001b[0;32m   1204\u001b[0m     \u001b[39m# re-raise KeyboardInterrupt, to truncate traceback\u001b[39;00m\n\u001b[1;32m-> 1205\u001b[0m     \u001b[39mraise\u001b[39;00m \u001b[39mKeyboardInterrupt\u001b[39;00m(\u001b[39m\"\u001b[39m\u001b[39mInterrupted by user\u001b[39m\u001b[39m\"\u001b[39m) \u001b[39mfrom\u001b[39;00m \u001b[39mNone\u001b[39m\n\u001b[0;32m   1206\u001b[0m \u001b[39mexcept\u001b[39;00m \u001b[39mException\u001b[39;00m:\n\u001b[0;32m   1207\u001b[0m     \u001b[39mself\u001b[39m\u001b[39m.\u001b[39mlog\u001b[39m.\u001b[39mwarning(\u001b[39m\"\u001b[39m\u001b[39mInvalid Message:\u001b[39m\u001b[39m\"\u001b[39m, exc_info\u001b[39m=\u001b[39m\u001b[39mTrue\u001b[39;00m)\n",
      "\u001b[1;31mKeyboardInterrupt\u001b[0m: Interrupted by user"
     ]
    }
   ],
   "source": [
    "a = input(\"введите число: \")\n",
    "try:\n",
    "    b = int(a)\n",
    "    \n",
    "except ValueError: \n",
    "    print('Вы ввели неправильное число')\n",
    "else:\n",
    "    print(f'Вы ввели {b}')\n",
    "finally:\n",
    "    print('Выход из программы')"
   ]
  },
  {
   "cell_type": "markdown",
   "metadata": {},
   "source": [
    "Задание 9.5\n",
    "Задание на самопроверку.\n",
    "\n",
    "Создайте класс Square. Добавьте в конструктор класса Square собственное исключение NonPositiveDigitException, унаследованное от ValueError, которое будет срабатывать каждый раз, когда сторона квадрата меньше или равна 0."
   ]
  },
  {
   "cell_type": "code",
   "execution_count": 38,
   "metadata": {},
   "outputs": [
    {
     "name": "stdout",
     "output_type": "stream",
     "text": [
      "4\n"
     ]
    }
   ],
   "source": [
    "class NonPositiveDigitException(ValueError):\n",
    "    pass\n",
    "\n",
    "\n",
    "class Square:\n",
    "    def __init__(self, number):\n",
    "        if number <= 0:\n",
    "            raise NonPositiveDigitException\n",
    "        # try:\n",
    "        #     result = number ** 2\n",
    "        # except NonPositiveDigitException as e:\n",
    "        #     print(e)\n",
    "        else:\n",
    "            print(number ** 2)\n",
    "       \n",
    "    \n",
    "        \n",
    "b = Square(2)\n"
   ]
  },
  {
   "cell_type": "code",
   "execution_count": 33,
   "metadata": {},
   "outputs": [],
   "source": [
    "class NonPositiveDigitException(ValueError):\n",
    "    pass\n",
    " \n",
    "class Square:\n",
    "    def __init__(self, a):\n",
    "        if a <= 0:\n",
    "            raise NonPositiveDigitException('Неправильно указана сторона квадрата')"
   ]
  },
  {
   "cell_type": "code",
   "execution_count": 34,
   "metadata": {},
   "outputs": [
    {
     "ename": "NonPositiveDigitException",
     "evalue": "Неправильно указана сторона квадрата",
     "output_type": "error",
     "traceback": [
      "\u001b[1;31m---------------------------------------------------------------------------\u001b[0m",
      "\u001b[1;31mNonPositiveDigitException\u001b[0m                 Traceback (most recent call last)",
      "\u001b[1;32md:\\IDE\\разное\\Lesson.ipynb Cell 52'\u001b[0m in \u001b[0;36m<cell line: 1>\u001b[1;34m()\u001b[0m\n\u001b[1;32m----> <a href='vscode-notebook-cell:/d%3A/IDE/%D1%80%D0%B0%D0%B7%D0%BD%D0%BE%D0%B5/Lesson.ipynb#ch0000051?line=0'>1</a>\u001b[0m b \u001b[39m=\u001b[39m Square(\u001b[39m0\u001b[39;49m)\n",
      "\u001b[1;32md:\\IDE\\разное\\Lesson.ipynb Cell 51'\u001b[0m in \u001b[0;36mSquare.__init__\u001b[1;34m(self, a)\u001b[0m\n\u001b[0;32m      <a href='vscode-notebook-cell:/d%3A/IDE/%D1%80%D0%B0%D0%B7%D0%BD%D0%BE%D0%B5/Lesson.ipynb#ch0000050?line=4'>5</a>\u001b[0m \u001b[39mdef\u001b[39;00m \u001b[39m__init__\u001b[39m(\u001b[39mself\u001b[39m, a):\n\u001b[0;32m      <a href='vscode-notebook-cell:/d%3A/IDE/%D1%80%D0%B0%D0%B7%D0%BD%D0%BE%D0%B5/Lesson.ipynb#ch0000050?line=5'>6</a>\u001b[0m     \u001b[39mif\u001b[39;00m a \u001b[39m<\u001b[39m\u001b[39m=\u001b[39m \u001b[39m0\u001b[39m:\n\u001b[1;32m----> <a href='vscode-notebook-cell:/d%3A/IDE/%D1%80%D0%B0%D0%B7%D0%BD%D0%BE%D0%B5/Lesson.ipynb#ch0000050?line=6'>7</a>\u001b[0m         \u001b[39mraise\u001b[39;00m NonPositiveDigitException(\u001b[39m'\u001b[39m\u001b[39mНеправильно указана сторона квадрата\u001b[39m\u001b[39m'\u001b[39m)\n",
      "\u001b[1;31mNonPositiveDigitException\u001b[0m: Неправильно указана сторона квадрата"
     ]
    }
   ],
   "source": [
    "b = Square(0)"
   ]
  }
 ],
 "metadata": {
  "kernelspec": {
   "display_name": "Python 3.9.10 64-bit",
   "language": "python",
   "name": "python3"
  },
  "language_info": {
   "codemirror_mode": {
    "name": "ipython",
    "version": 3
   },
   "file_extension": ".py",
   "mimetype": "text/x-python",
   "name": "python",
   "nbconvert_exporter": "python",
   "pygments_lexer": "ipython3",
   "version": "3.9.10"
  },
  "orig_nbformat": 4,
  "vscode": {
   "interpreter": {
    "hash": "a66ab9747335481f231ba268e900907a369de1a69b2e25cca7906d1a41fa9063"
   }
  }
 },
 "nbformat": 4,
 "nbformat_minor": 2
}
