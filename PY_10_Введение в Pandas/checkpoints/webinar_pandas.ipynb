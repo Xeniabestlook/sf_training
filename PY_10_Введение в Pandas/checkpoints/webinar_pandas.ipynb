{
 "cells": [
  {
   "cell_type": "code",
   "execution_count": 1,
   "metadata": {},
   "outputs": [],
   "source": [
    "import pandas as pd\n"
   ]
  },
  {
   "cell_type": "code",
   "execution_count": 2,
   "metadata": {},
   "outputs": [],
   "source": [
    "amazon_df = pd.read_csv('https://raw.githubusercontent.com/AndreyRysistov/VebinarDST/main/amazon_com_data.csv')"
   ]
  },
  {
   "cell_type": "code",
   "execution_count": 3,
   "metadata": {},
   "outputs": [
    {
     "data": {
      "text/html": [
       "<div>\n",
       "<style scoped>\n",
       "    .dataframe tbody tr th:only-of-type {\n",
       "        vertical-align: middle;\n",
       "    }\n",
       "\n",
       "    .dataframe tbody tr th {\n",
       "        vertical-align: top;\n",
       "    }\n",
       "\n",
       "    .dataframe thead th {\n",
       "        text-align: right;\n",
       "    }\n",
       "</style>\n",
       "<table border=\"1\" class=\"dataframe\">\n",
       "  <thead>\n",
       "    <tr style=\"text-align: right;\">\n",
       "      <th></th>\n",
       "      <th>product_name</th>\n",
       "      <th>mrp</th>\n",
       "      <th>price</th>\n",
       "      <th>pdp_url</th>\n",
       "      <th>brand_name</th>\n",
       "      <th>product_category</th>\n",
       "      <th>retailer</th>\n",
       "      <th>description</th>\n",
       "      <th>rating</th>\n",
       "      <th>review_count</th>\n",
       "      <th>style_attributes</th>\n",
       "      <th>total_sizes</th>\n",
       "      <th>available_size</th>\n",
       "      <th>color</th>\n",
       "    </tr>\n",
       "  </thead>\n",
       "  <tbody>\n",
       "    <tr>\n",
       "      <th>0</th>\n",
       "      <td>Calvin Klein Women's Sheer Marquisette Demi Un...</td>\n",
       "      <td>$36.00</td>\n",
       "      <td>$32.40</td>\n",
       "      <td>https://www.amazon.com/-/dp/B01NAVD98J?th=1&amp;psc=1</td>\n",
       "      <td>Calvin-Klein</td>\n",
       "      <td>Bras</td>\n",
       "      <td>Amazon US</td>\n",
       "      <td>An unlined demi cup bra featuring sheer, sexy ...</td>\n",
       "      <td>4.5</td>\n",
       "      <td>47</td>\n",
       "      <td>[ 72% Nylon, 28% Elastane , Imported , hook an...</td>\n",
       "      <td>30B , 30C , 30D , 30DD , 32A , 32B , 32C , 32D...</td>\n",
       "      <td>30B , 30C , 30D , 30DD , 32B , 32C , 32D , 32D...</td>\n",
       "      <td>Bare</td>\n",
       "    </tr>\n",
       "    <tr>\n",
       "      <th>1</th>\n",
       "      <td>Wacoal Embrace Lace Bikini Panty</td>\n",
       "      <td>$27.00</td>\n",
       "      <td>$27.00</td>\n",
       "      <td>https://www.amazon.com/-/dp/B0011YQFNK?th=1&amp;psc=1</td>\n",
       "      <td>Wacoal</td>\n",
       "      <td>Panties</td>\n",
       "      <td>Amazon US</td>\n",
       "      <td>Embrace lace bikini offers great fit and match...</td>\n",
       "      <td>4.4</td>\n",
       "      <td>91</td>\n",
       "      <td>[ 100% Nylon , Imported , Hand Wash , 1.2\" hig...</td>\n",
       "      <td>Small , Medium , Large , X-Large</td>\n",
       "      <td>Small , Medium , X-Large</td>\n",
       "      <td>Large</td>\n",
       "    </tr>\n",
       "    <tr>\n",
       "      <th>2</th>\n",
       "      <td>Wacoal Women's Slimline Seamless Minimizer Bra</td>\n",
       "      <td>$65.00</td>\n",
       "      <td>$65.00</td>\n",
       "      <td>https://www.amazon.com/-/dp/B000T3606Q?th=1&amp;psc=1</td>\n",
       "      <td>Wacoal</td>\n",
       "      <td>Bras</td>\n",
       "      <td>Amazon US</td>\n",
       "      <td>Seamless underwire minimizer bra gives great s...</td>\n",
       "      <td>4.3</td>\n",
       "      <td>298</td>\n",
       "      <td>[ Cups: 100% Polyester; Back: 71% Nylon, 29% S...</td>\n",
       "      <td>32DD , 32DDD , 34C , 34D , 34DD , 34DDD , 36C ...</td>\n",
       "      <td>32DD , 32DDD , 34C , 34D , 34DD , 34DDD , 36C ...</td>\n",
       "      <td>Black</td>\n",
       "    </tr>\n",
       "  </tbody>\n",
       "</table>\n",
       "</div>"
      ],
      "text/plain": [
       "                                        product_name      mrp    price  \\\n",
       "0  Calvin Klein Women's Sheer Marquisette Demi Un...  $36.00   $32.40    \n",
       "1                   Wacoal Embrace Lace Bikini Panty  $27.00   $27.00    \n",
       "2     Wacoal Women's Slimline Seamless Minimizer Bra  $65.00   $65.00    \n",
       "\n",
       "                                             pdp_url    brand_name  \\\n",
       "0  https://www.amazon.com/-/dp/B01NAVD98J?th=1&psc=1  Calvin-Klein   \n",
       "1  https://www.amazon.com/-/dp/B0011YQFNK?th=1&psc=1        Wacoal   \n",
       "2  https://www.amazon.com/-/dp/B000T3606Q?th=1&psc=1        Wacoal   \n",
       "\n",
       "  product_category   retailer  \\\n",
       "0             Bras  Amazon US   \n",
       "1          Panties  Amazon US   \n",
       "2             Bras  Amazon US   \n",
       "\n",
       "                                         description  rating  review_count  \\\n",
       "0  An unlined demi cup bra featuring sheer, sexy ...     4.5            47   \n",
       "1  Embrace lace bikini offers great fit and match...     4.4            91   \n",
       "2  Seamless underwire minimizer bra gives great s...     4.3           298   \n",
       "\n",
       "                                    style_attributes  \\\n",
       "0  [ 72% Nylon, 28% Elastane , Imported , hook an...   \n",
       "1  [ 100% Nylon , Imported , Hand Wash , 1.2\" hig...   \n",
       "2  [ Cups: 100% Polyester; Back: 71% Nylon, 29% S...   \n",
       "\n",
       "                                         total_sizes  \\\n",
       "0  30B , 30C , 30D , 30DD , 32A , 32B , 32C , 32D...   \n",
       "1                   Small , Medium , Large , X-Large   \n",
       "2  32DD , 32DDD , 34C , 34D , 34DD , 34DDD , 36C ...   \n",
       "\n",
       "                                      available_size  color  \n",
       "0  30B , 30C , 30D , 30DD , 32B , 32C , 32D , 32D...   Bare  \n",
       "1                           Small , Medium , X-Large  Large  \n",
       "2  32DD , 32DDD , 34C , 34D , 34DD , 34DDD , 36C ...  Black  "
      ]
     },
     "execution_count": 3,
     "metadata": {},
     "output_type": "execute_result"
    }
   ],
   "source": [
    "amazon_df.head(3)"
   ]
  },
  {
   "cell_type": "code",
   "execution_count": 13,
   "metadata": {},
   "outputs": [
    {
     "name": "stderr",
     "output_type": "stream",
     "text": [
      "C:\\Users\\Alexey\\AppData\\Local\\Temp\\ipykernel_1040\\1578796302.py:1: FutureWarning: The default value of regex will change from True to False in a future version. In addition, single character regular expressions will *not* be treated as literal strings when regex=True.\n",
      "  amazon_df['price'] = amazon_df['price'].str.replace('$', '').astype('float64')\n"
     ]
    }
   ],
   "source": [
    "amazon_df['price'] = amazon_df['price'].str.replace('$', '').astype('float64')"
   ]
  },
  {
   "cell_type": "code",
   "execution_count": 14,
   "metadata": {},
   "outputs": [
    {
     "data": {
      "text/html": [
       "<div>\n",
       "<style scoped>\n",
       "    .dataframe tbody tr th:only-of-type {\n",
       "        vertical-align: middle;\n",
       "    }\n",
       "\n",
       "    .dataframe tbody tr th {\n",
       "        vertical-align: top;\n",
       "    }\n",
       "\n",
       "    .dataframe thead th {\n",
       "        text-align: right;\n",
       "    }\n",
       "</style>\n",
       "<table border=\"1\" class=\"dataframe\">\n",
       "  <thead>\n",
       "    <tr style=\"text-align: right;\">\n",
       "      <th></th>\n",
       "      <th>product_name</th>\n",
       "      <th>mrp</th>\n",
       "      <th>price</th>\n",
       "      <th>pdp_url</th>\n",
       "      <th>brand_name</th>\n",
       "      <th>product_category</th>\n",
       "      <th>retailer</th>\n",
       "      <th>description</th>\n",
       "      <th>rating</th>\n",
       "      <th>review_count</th>\n",
       "      <th>style_attributes</th>\n",
       "      <th>total_sizes</th>\n",
       "      <th>available_size</th>\n",
       "      <th>color</th>\n",
       "    </tr>\n",
       "  </thead>\n",
       "  <tbody>\n",
       "    <tr>\n",
       "      <th>0</th>\n",
       "      <td>Calvin Klein Women's Sheer Marquisette Demi Un...</td>\n",
       "      <td>$36.00</td>\n",
       "      <td>32.4</td>\n",
       "      <td>https://www.amazon.com/-/dp/B01NAVD98J?th=1&amp;psc=1</td>\n",
       "      <td>Calvin-Klein</td>\n",
       "      <td>Bras</td>\n",
       "      <td>Amazon US</td>\n",
       "      <td>An unlined demi cup bra featuring sheer, sexy ...</td>\n",
       "      <td>4.5</td>\n",
       "      <td>47</td>\n",
       "      <td>[ 72% Nylon, 28% Elastane , Imported , hook an...</td>\n",
       "      <td>30B , 30C , 30D , 30DD , 32A , 32B , 32C , 32D...</td>\n",
       "      <td>30B , 30C , 30D , 30DD , 32B , 32C , 32D , 32D...</td>\n",
       "      <td>Bare</td>\n",
       "    </tr>\n",
       "    <tr>\n",
       "      <th>1</th>\n",
       "      <td>Wacoal Embrace Lace Bikini Panty</td>\n",
       "      <td>$27.00</td>\n",
       "      <td>27.0</td>\n",
       "      <td>https://www.amazon.com/-/dp/B0011YQFNK?th=1&amp;psc=1</td>\n",
       "      <td>Wacoal</td>\n",
       "      <td>Panties</td>\n",
       "      <td>Amazon US</td>\n",
       "      <td>Embrace lace bikini offers great fit and match...</td>\n",
       "      <td>4.4</td>\n",
       "      <td>91</td>\n",
       "      <td>[ 100% Nylon , Imported , Hand Wash , 1.2\" hig...</td>\n",
       "      <td>Small , Medium , Large , X-Large</td>\n",
       "      <td>Small , Medium , X-Large</td>\n",
       "      <td>Large</td>\n",
       "    </tr>\n",
       "    <tr>\n",
       "      <th>2</th>\n",
       "      <td>Wacoal Women's Slimline Seamless Minimizer Bra</td>\n",
       "      <td>$65.00</td>\n",
       "      <td>65.0</td>\n",
       "      <td>https://www.amazon.com/-/dp/B000T3606Q?th=1&amp;psc=1</td>\n",
       "      <td>Wacoal</td>\n",
       "      <td>Bras</td>\n",
       "      <td>Amazon US</td>\n",
       "      <td>Seamless underwire minimizer bra gives great s...</td>\n",
       "      <td>4.3</td>\n",
       "      <td>298</td>\n",
       "      <td>[ Cups: 100% Polyester; Back: 71% Nylon, 29% S...</td>\n",
       "      <td>32DD , 32DDD , 34C , 34D , 34DD , 34DDD , 36C ...</td>\n",
       "      <td>32DD , 32DDD , 34C , 34D , 34DD , 34DDD , 36C ...</td>\n",
       "      <td>Black</td>\n",
       "    </tr>\n",
       "    <tr>\n",
       "      <th>3</th>\n",
       "      <td>Hanky Panky Womens Signature Lace Retro V-Kini</td>\n",
       "      <td>$36.00</td>\n",
       "      <td>36.0</td>\n",
       "      <td>https://www.amazon.com/-/dp/B003Y6AX0Y?th=1&amp;psc=1</td>\n",
       "      <td>Hanky-Panky</td>\n",
       "      <td>Panties</td>\n",
       "      <td>Amazon US</td>\n",
       "      <td>All-day comfort describes this figure-flatteri...</td>\n",
       "      <td>4.4</td>\n",
       "      <td>46</td>\n",
       "      <td>[ Made in USA , All-day comfort describes this...</td>\n",
       "      <td>Small , Medium , Large , X-Large</td>\n",
       "      <td>Small , Medium , X-Large</td>\n",
       "      <td>Large</td>\n",
       "    </tr>\n",
       "    <tr>\n",
       "      <th>4</th>\n",
       "      <td>Wacoal Women's Red Carpet Strapless Bra</td>\n",
       "      <td>$65.00</td>\n",
       "      <td>65.0</td>\n",
       "      <td>https://www.amazon.com/-/dp/B01CEBGQA0?th=1&amp;psc=1</td>\n",
       "      <td>Wacoal</td>\n",
       "      <td>Bras</td>\n",
       "      <td>Amazon US</td>\n",
       "      <td>Red Carpet full figure strapless fits great, s...</td>\n",
       "      <td>4.4</td>\n",
       "      <td>747</td>\n",
       "      <td>[ 91% Nylon, 9% Spandex , Imported , hook and ...</td>\n",
       "      <td>30D , 30DD , 30DDD , 30G , 32C , 32D , 32DD , ...</td>\n",
       "      <td>30D , 30DD , 30DDD , 30G , 32C , 32D , 32DD , ...</td>\n",
       "      <td>Pecan</td>\n",
       "    </tr>\n",
       "  </tbody>\n",
       "</table>\n",
       "</div>"
      ],
      "text/plain": [
       "                                        product_name      mrp  price  \\\n",
       "0  Calvin Klein Women's Sheer Marquisette Demi Un...  $36.00    32.4   \n",
       "1                   Wacoal Embrace Lace Bikini Panty  $27.00    27.0   \n",
       "2     Wacoal Women's Slimline Seamless Minimizer Bra  $65.00    65.0   \n",
       "3     Hanky Panky Womens Signature Lace Retro V-Kini  $36.00    36.0   \n",
       "4            Wacoal Women's Red Carpet Strapless Bra  $65.00    65.0   \n",
       "\n",
       "                                             pdp_url    brand_name  \\\n",
       "0  https://www.amazon.com/-/dp/B01NAVD98J?th=1&psc=1  Calvin-Klein   \n",
       "1  https://www.amazon.com/-/dp/B0011YQFNK?th=1&psc=1        Wacoal   \n",
       "2  https://www.amazon.com/-/dp/B000T3606Q?th=1&psc=1        Wacoal   \n",
       "3  https://www.amazon.com/-/dp/B003Y6AX0Y?th=1&psc=1   Hanky-Panky   \n",
       "4  https://www.amazon.com/-/dp/B01CEBGQA0?th=1&psc=1        Wacoal   \n",
       "\n",
       "  product_category   retailer  \\\n",
       "0             Bras  Amazon US   \n",
       "1          Panties  Amazon US   \n",
       "2             Bras  Amazon US   \n",
       "3          Panties  Amazon US   \n",
       "4             Bras  Amazon US   \n",
       "\n",
       "                                         description  rating  review_count  \\\n",
       "0  An unlined demi cup bra featuring sheer, sexy ...     4.5            47   \n",
       "1  Embrace lace bikini offers great fit and match...     4.4            91   \n",
       "2  Seamless underwire minimizer bra gives great s...     4.3           298   \n",
       "3  All-day comfort describes this figure-flatteri...     4.4            46   \n",
       "4  Red Carpet full figure strapless fits great, s...     4.4           747   \n",
       "\n",
       "                                    style_attributes  \\\n",
       "0  [ 72% Nylon, 28% Elastane , Imported , hook an...   \n",
       "1  [ 100% Nylon , Imported , Hand Wash , 1.2\" hig...   \n",
       "2  [ Cups: 100% Polyester; Back: 71% Nylon, 29% S...   \n",
       "3  [ Made in USA , All-day comfort describes this...   \n",
       "4  [ 91% Nylon, 9% Spandex , Imported , hook and ...   \n",
       "\n",
       "                                         total_sizes  \\\n",
       "0  30B , 30C , 30D , 30DD , 32A , 32B , 32C , 32D...   \n",
       "1                   Small , Medium , Large , X-Large   \n",
       "2  32DD , 32DDD , 34C , 34D , 34DD , 34DDD , 36C ...   \n",
       "3                   Small , Medium , Large , X-Large   \n",
       "4  30D , 30DD , 30DDD , 30G , 32C , 32D , 32DD , ...   \n",
       "\n",
       "                                      available_size  color  \n",
       "0  30B , 30C , 30D , 30DD , 32B , 32C , 32D , 32D...   Bare  \n",
       "1                           Small , Medium , X-Large  Large  \n",
       "2  32DD , 32DDD , 34C , 34D , 34DD , 34DDD , 36C ...  Black  \n",
       "3                           Small , Medium , X-Large  Large  \n",
       "4  30D , 30DD , 30DDD , 30G , 32C , 32D , 32DD , ...  Pecan  "
      ]
     },
     "execution_count": 14,
     "metadata": {},
     "output_type": "execute_result"
    }
   ],
   "source": [
    "amazon_df.head()"
   ]
  },
  {
   "cell_type": "markdown",
   "metadata": {},
   "source": [
    "Найдите суммарное число отзывов на сайте Amazon\n",
    "Сколько из этих отзывов пренадлежат компании Hanky-Panky\n",
    "Как зависит цена от рейтинга товара?"
   ]
  },
  {
   "cell_type": "code",
   "execution_count": 8,
   "metadata": {},
   "outputs": [
    {
     "data": {
      "text/plain": [
       "9634073"
      ]
     },
     "metadata": {},
     "output_type": "display_data"
    }
   ],
   "source": [
    "sum_review = amazon_df['review_count'].sum()\n",
    "display(sum_review)"
   ]
  },
  {
   "cell_type": "code",
   "execution_count": 11,
   "metadata": {},
   "outputs": [
    {
     "data": {
      "text/plain": [
       "17726"
      ]
     },
     "metadata": {},
     "output_type": "display_data"
    }
   ],
   "source": [
    "display(amazon_df[(amazon_df['brand_name'] == 'Hanky-Panky')]['review_count'].sum())"
   ]
  },
  {
   "cell_type": "code",
   "execution_count": 15,
   "metadata": {},
   "outputs": [
    {
     "data": {
      "text/plain": [
       "0.012553214823163912"
      ]
     },
     "execution_count": 15,
     "metadata": {},
     "output_type": "execute_result"
    }
   ],
   "source": [
    "amazon_df['price'].corr(amazon_df['rating'])"
   ]
  },
  {
   "cell_type": "markdown",
   "metadata": {},
   "source": [
    "Задания:\n",
    "\n",
    "Какой продукт Wacoal самый популярный?\n",
    "Сколько уникальных цветов есть у бренда Fila?"
   ]
  },
  {
   "cell_type": "code",
   "execution_count": 18,
   "metadata": {},
   "outputs": [
    {
     "data": {
      "text/plain": [
       "\"Wacoal Women's Retro Chic Underwire Bra\""
      ]
     },
     "execution_count": 18,
     "metadata": {},
     "output_type": "execute_result"
    }
   ],
   "source": [
    "amazon_df[(amazon_df['brand_name'] == 'Wacoal')]['product_name'].mode()[0]"
   ]
  },
  {
   "cell_type": "code",
   "execution_count": 32,
   "metadata": {},
   "outputs": [
    {
     "data": {
      "text/plain": [
       "1"
      ]
     },
     "execution_count": 32,
     "metadata": {},
     "output_type": "execute_result"
    }
   ],
   "source": [
    "len(amazon_df[(amazon_df['brand_name'] == 'Fila')]['color'].unique())"
   ]
  },
  {
   "cell_type": "code",
   "execution_count": 35,
   "metadata": {},
   "outputs": [
    {
     "data": {
      "text/plain": [
       "107"
      ]
     },
     "execution_count": 35,
     "metadata": {},
     "output_type": "execute_result"
    }
   ],
   "source": [
    "len(amazon_df[(amazon_df['brand_name'] == 'Wacoal')]['color'].value_counts())"
   ]
  },
  {
   "cell_type": "code",
   "execution_count": 24,
   "metadata": {},
   "outputs": [
    {
     "data": {
      "text/html": [
       "<div>\n",
       "<style scoped>\n",
       "    .dataframe tbody tr th:only-of-type {\n",
       "        vertical-align: middle;\n",
       "    }\n",
       "\n",
       "    .dataframe tbody tr th {\n",
       "        vertical-align: top;\n",
       "    }\n",
       "\n",
       "    .dataframe thead th {\n",
       "        text-align: right;\n",
       "    }\n",
       "</style>\n",
       "<table border=\"1\" class=\"dataframe\">\n",
       "  <thead>\n",
       "    <tr style=\"text-align: right;\">\n",
       "      <th></th>\n",
       "      <th>product_name</th>\n",
       "      <th>mrp</th>\n",
       "      <th>price</th>\n",
       "      <th>pdp_url</th>\n",
       "      <th>brand_name</th>\n",
       "      <th>product_category</th>\n",
       "      <th>retailer</th>\n",
       "      <th>description</th>\n",
       "      <th>rating</th>\n",
       "      <th>review_count</th>\n",
       "      <th>style_attributes</th>\n",
       "      <th>total_sizes</th>\n",
       "      <th>available_size</th>\n",
       "      <th>color</th>\n",
       "    </tr>\n",
       "  </thead>\n",
       "  <tbody>\n",
       "    <tr>\n",
       "      <th>6680</th>\n",
       "      <td>Wacoal Women's Embrace Lace Bikini Panty</td>\n",
       "      <td>$27.00</td>\n",
       "      <td>27.0</td>\n",
       "      <td>https://www.amazon.com/-/dp/B01MY1GHZM?th=1&amp;psc=1</td>\n",
       "      <td>Fila</td>\n",
       "      <td>Panties</td>\n",
       "      <td>Amazon US</td>\n",
       "      <td>Embrace lace bikini offers great fit and match...</td>\n",
       "      <td>4.3</td>\n",
       "      <td>94</td>\n",
       "      <td>[ 82% Nylon, 18% Spandex , Imported , Pull On ...</td>\n",
       "      <td>Small , Medium , Large , X-Large</td>\n",
       "      <td>Small , Large , X-Large</td>\n",
       "      <td>Medium</td>\n",
       "    </tr>\n",
       "  </tbody>\n",
       "</table>\n",
       "</div>"
      ],
      "text/plain": [
       "                                  product_name      mrp  price  \\\n",
       "6680  Wacoal Women's Embrace Lace Bikini Panty  $27.00    27.0   \n",
       "\n",
       "                                                pdp_url brand_name  \\\n",
       "6680  https://www.amazon.com/-/dp/B01MY1GHZM?th=1&psc=1       Fila   \n",
       "\n",
       "     product_category   retailer  \\\n",
       "6680          Panties  Amazon US   \n",
       "\n",
       "                                            description  rating  review_count  \\\n",
       "6680  Embrace lace bikini offers great fit and match...     4.3            94   \n",
       "\n",
       "                                       style_attributes  \\\n",
       "6680  [ 82% Nylon, 18% Spandex , Imported , Pull On ...   \n",
       "\n",
       "                           total_sizes           available_size   color  \n",
       "6680  Small , Medium , Large , X-Large  Small , Large , X-Large  Medium  "
      ]
     },
     "execution_count": 24,
     "metadata": {},
     "output_type": "execute_result"
    }
   ],
   "source": [
    "amazon_df[(amazon_df['brand_name'] == 'Fila')].head()"
   ]
  },
  {
   "cell_type": "code",
   "execution_count": 36,
   "metadata": {},
   "outputs": [],
   "source": [
    "got_data = pd.read_csv('https://raw.githubusercontent.com/AndreyRysistov/VebinarDST/main/character-deaths.csv')"
   ]
  },
  {
   "cell_type": "code",
   "execution_count": 44,
   "metadata": {},
   "outputs": [
    {
     "data": {
      "text/html": [
       "<div>\n",
       "<style scoped>\n",
       "    .dataframe tbody tr th:only-of-type {\n",
       "        vertical-align: middle;\n",
       "    }\n",
       "\n",
       "    .dataframe tbody tr th {\n",
       "        vertical-align: top;\n",
       "    }\n",
       "\n",
       "    .dataframe thead th {\n",
       "        text-align: right;\n",
       "    }\n",
       "</style>\n",
       "<table border=\"1\" class=\"dataframe\">\n",
       "  <thead>\n",
       "    <tr style=\"text-align: right;\">\n",
       "      <th></th>\n",
       "      <th>Name</th>\n",
       "      <th>Allegiances</th>\n",
       "      <th>Death Year</th>\n",
       "      <th>Book of Death</th>\n",
       "      <th>Death Chapter</th>\n",
       "      <th>Book Intro Chapter</th>\n",
       "      <th>Gender</th>\n",
       "      <th>Nobility</th>\n",
       "      <th>GoT</th>\n",
       "      <th>CoK</th>\n",
       "      <th>SoS</th>\n",
       "      <th>FfC</th>\n",
       "      <th>DwD</th>\n",
       "    </tr>\n",
       "  </thead>\n",
       "  <tbody>\n",
       "    <tr>\n",
       "      <th>222</th>\n",
       "      <td>Edwyn Frey</td>\n",
       "      <td>None</td>\n",
       "      <td>NaN</td>\n",
       "      <td>NaN</td>\n",
       "      <td>NaN</td>\n",
       "      <td>38.0</td>\n",
       "      <td>1</td>\n",
       "      <td>1</td>\n",
       "      <td>0</td>\n",
       "      <td>0</td>\n",
       "      <td>1</td>\n",
       "      <td>1</td>\n",
       "      <td>0</td>\n",
       "    </tr>\n",
       "    <tr>\n",
       "      <th>442</th>\n",
       "      <td>Kraznys mo Nakloz</td>\n",
       "      <td>None</td>\n",
       "      <td>299.0</td>\n",
       "      <td>3.0</td>\n",
       "      <td>27.0</td>\n",
       "      <td>23.0</td>\n",
       "      <td>1</td>\n",
       "      <td>1</td>\n",
       "      <td>0</td>\n",
       "      <td>0</td>\n",
       "      <td>1</td>\n",
       "      <td>0</td>\n",
       "      <td>0</td>\n",
       "    </tr>\n",
       "    <tr>\n",
       "      <th>464</th>\n",
       "      <td>Leona Woolfield</td>\n",
       "      <td>Stark</td>\n",
       "      <td>NaN</td>\n",
       "      <td>NaN</td>\n",
       "      <td>NaN</td>\n",
       "      <td>19.0</td>\n",
       "      <td>0</td>\n",
       "      <td>1</td>\n",
       "      <td>0</td>\n",
       "      <td>0</td>\n",
       "      <td>0</td>\n",
       "      <td>0</td>\n",
       "      <td>1</td>\n",
       "    </tr>\n",
       "    <tr>\n",
       "      <th>413</th>\n",
       "      <td>Jonelle Cerwyn</td>\n",
       "      <td>Stark</td>\n",
       "      <td>NaN</td>\n",
       "      <td>NaN</td>\n",
       "      <td>NaN</td>\n",
       "      <td>53.0</td>\n",
       "      <td>0</td>\n",
       "      <td>1</td>\n",
       "      <td>1</td>\n",
       "      <td>0</td>\n",
       "      <td>0</td>\n",
       "      <td>0</td>\n",
       "      <td>0</td>\n",
       "    </tr>\n",
       "    <tr>\n",
       "      <th>360</th>\n",
       "      <td>Hot Pie</td>\n",
       "      <td>None</td>\n",
       "      <td>NaN</td>\n",
       "      <td>NaN</td>\n",
       "      <td>NaN</td>\n",
       "      <td>1.0</td>\n",
       "      <td>1</td>\n",
       "      <td>0</td>\n",
       "      <td>0</td>\n",
       "      <td>1</td>\n",
       "      <td>1</td>\n",
       "      <td>0</td>\n",
       "      <td>0</td>\n",
       "    </tr>\n",
       "  </tbody>\n",
       "</table>\n",
       "</div>"
      ],
      "text/plain": [
       "                  Name Allegiances  Death Year  Book of Death  Death Chapter  \\\n",
       "222         Edwyn Frey        None         NaN            NaN            NaN   \n",
       "442  Kraznys mo Nakloz        None       299.0            3.0           27.0   \n",
       "464    Leona Woolfield       Stark         NaN            NaN            NaN   \n",
       "413     Jonelle Cerwyn       Stark         NaN            NaN            NaN   \n",
       "360            Hot Pie        None         NaN            NaN            NaN   \n",
       "\n",
       "     Book Intro Chapter  Gender  Nobility  GoT  CoK  SoS  FfC  DwD  \n",
       "222                38.0       1         1    0    0    1    1    0  \n",
       "442                23.0       1         1    0    0    1    0    0  \n",
       "464                19.0       0         1    0    0    0    0    1  \n",
       "413                53.0       0         1    1    0    0    0    0  \n",
       "360                 1.0       1         0    0    1    1    0    0  "
      ]
     },
     "execution_count": 44,
     "metadata": {},
     "output_type": "execute_result"
    }
   ],
   "source": [
    "got_data.sample(5)"
   ]
  },
  {
   "cell_type": "markdown",
   "metadata": {},
   "source": [
    "В каком случае персонажи умирают чаще, когда они верны Ланистерам или Старкам (столбец Allegiances)?\n",
    "В какой книге умерло больше всего персонажей? (столбец Book of Death)\n",
    "Каково соотношение погибнувших женщин и мужчин? (столбец Gender, 1- мужчина, 0 - женщина)\n",
    "Что вы можете сказать о том, есть ли зависимость вероятности смерти персонажа от его титула? (столбец Nobility, 1 - есть титул, 0 - простолюдин)"
   ]
  },
  {
   "cell_type": "code",
   "execution_count": 50,
   "metadata": {},
   "outputs": [],
   "source": [
    "count_lan_deaths_num = len(got_data[(got_data['Allegiances'] == 'Lannister')]['Name'].unique())\n"
   ]
  },
  {
   "cell_type": "code",
   "execution_count": 51,
   "metadata": {},
   "outputs": [],
   "source": [
    "count_stark_deaths_num = len(got_data[(got_data['Allegiances'] == 'Stark')]['Name'].unique())\n"
   ]
  },
  {
   "cell_type": "code",
   "execution_count": 52,
   "metadata": {},
   "outputs": [
    {
     "data": {
      "text/plain": [
       "'Верные Ланнистерам умирают чаще'"
      ]
     },
     "metadata": {},
     "output_type": "display_data"
    }
   ],
   "source": [
    "if count_lan_deaths_num > count_stark_deaths_num:\n",
    "    display(\"Верные Ланнистерам умирают чаще\")\n",
    "elif count_lan_deaths_num == count_stark_deaths_num:\n",
    "    display(\"Верные Ланнистерам и Старкам умирают одинаково часто\")\n",
    "else:\n",
    "    display(\"Верные Старкам умирают чаще\")"
   ]
  },
  {
   "cell_type": "code",
   "execution_count": 55,
   "metadata": {},
   "outputs": [
    {
     "data": {
      "text/plain": [
       "3.0"
      ]
     },
     "execution_count": 55,
     "metadata": {},
     "output_type": "execute_result"
    }
   ],
   "source": [
    "got_data['Book of Death'].mode()[0]"
   ]
  },
  {
   "cell_type": "code",
   "execution_count": 60,
   "metadata": {},
   "outputs": [
    {
     "data": {
      "text/plain": [
       "7.848484848484849"
      ]
     },
     "metadata": {},
     "output_type": "display_data"
    }
   ],
   "source": [
    "mans_deaths = (got_data[(got_data['Gender'] == 1)].value_counts()).shape[0]\n",
    "wom_deaths = (got_data[(got_data['Gender'] == 0)].value_counts()).shape[0]\n",
    "\n",
    "display(mans_deaths / wom_deaths)"
   ]
  },
  {
   "cell_type": "code",
   "execution_count": 61,
   "metadata": {},
   "outputs": [
    {
     "data": {
      "text/plain": [
       "0    0.53108\n",
       "1    0.46892\n",
       "Name: Nobility, dtype: float64"
      ]
     },
     "execution_count": 61,
     "metadata": {},
     "output_type": "execute_result"
    }
   ],
   "source": [
    "got_data['Nobility'].value_counts(normalize=True)"
   ]
  }
 ],
 "metadata": {
  "interpreter": {
   "hash": "a66ab9747335481f231ba268e900907a369de1a69b2e25cca7906d1a41fa9063"
  },
  "kernelspec": {
   "display_name": "Python 3.9.10 64-bit",
   "language": "python",
   "name": "python3"
  },
  "language_info": {
   "codemirror_mode": {
    "name": "ipython",
    "version": 3
   },
   "file_extension": ".py",
   "mimetype": "text/x-python",
   "name": "python",
   "nbconvert_exporter": "python",
   "pygments_lexer": "ipython3",
   "version": "3.9.10"
  },
  "orig_nbformat": 4
 },
 "nbformat": 4,
 "nbformat_minor": 2
}
